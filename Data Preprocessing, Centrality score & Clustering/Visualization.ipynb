{
  "nbformat": 4,
  "nbformat_minor": 0,
  "metadata": {
    "colab": {
      "provenance": []
    },
    "kernelspec": {
      "name": "python3",
      "display_name": "Python 3"
    },
    "language_info": {
      "name": "python"
    }
  },
  "cells": [
    {
      "cell_type": "code",
      "execution_count": null,
      "metadata": {
        "colab": {
          "base_uri": "https://localhost:8080/"
        },
        "id": "3fDDDmweXplU",
        "outputId": "edaaf645-b068-4910-8794-7b0170435192"
      },
      "outputs": [
        {
          "output_type": "stream",
          "name": "stdout",
          "text": [
            "Dữ liệu từ file Excel:\n",
            "       Unnamed: 0                Node  In-Degree Centrality  \\\n",
            "0               0                 998              0.007975   \n",
            "1               1    dinhquang3082003              0.000000   \n",
            "2               2     quangtrip821511              0.000050   \n",
            "3               3     manhcuongls1995              0.000000   \n",
            "4               4                1336              0.003688   \n",
            "...           ...                 ...                   ...   \n",
            "60186       60186  Phan Thi Minh Khoa              0.000000   \n",
            "60187       60187            đào thủy              0.000000   \n",
            "60188       60188            chiếc lá              0.000000   \n",
            "60189       60189                kiwi              0.000000   \n",
            "60190       60190        Thê Tiên Ngô              0.000000   \n",
            "\n",
            "       Out-Degree Centrality  Betweenness Centrality  Closeness Centrality  \n",
            "0                   0.000000            0.000000e+00              0.044420  \n",
            "1                   0.000033            0.000000e+00              0.000000  \n",
            "2                   0.000083            7.000683e-09              0.018575  \n",
            "3                   0.000017            0.000000e+00              0.000000  \n",
            "4                   0.000000            0.000000e+00              0.038883  \n",
            "...                      ...                     ...                   ...  \n",
            "60186               0.000017            0.000000e+00              0.000000  \n",
            "60187               0.000017            0.000000e+00              0.000000  \n",
            "60188               0.000017            0.000000e+00              0.000000  \n",
            "60189               0.000017            0.000000e+00              0.000000  \n",
            "60190               0.000017            0.000000e+00              0.000000  \n",
            "\n",
            "[60191 rows x 6 columns]\n"
          ]
        }
      ],
      "source": [
        "import pandas as pd\n",
        "\n",
        "# Đường dẫn đến file Excel\n",
        "file_path = \"Node_Cen_Directed (1).csv\"\n",
        "\n",
        "# Đọc file Excel\n",
        "data = pd.read_csv(file_path)\n",
        "\n",
        "# Hiển thị dữ liệu\n",
        "print(\"Dữ liệu từ file Excel:\")\n",
        "print(data)\n",
        "\n"
      ]
    },
    {
      "cell_type": "code",
      "source": [
        "top_in_degree = data.nlargest(10, \"In-Degree Centrality\")[[\"Node\", \"In-Degree Centrality\"]]\n",
        "top_out_degree = data.nlargest(10, \"Out-Degree Centrality\")[[\"Node\", \"Out-Degree Centrality\"]]\n",
        "top_betweenness = data.nlargest(10, \"Betweenness Centrality\")[[\"Node\", \"Betweenness Centrality\"]]\n",
        "top_closeness = data.nlargest(10, \"Closeness Centrality\")[[\"Node\", \"Closeness Centrality\"]]\n",
        "\n",
        "# Xuất kết quả\n",
        "print(\"Top 10 In-Degree Centrality:\")\n",
        "print(top_in_degree)\n",
        "\n",
        "print(\"\\nTop 10 Out-Degree Centrality:\")\n",
        "print(top_out_degree)\n",
        "\n",
        "print(\"\\nTop 10 Betweenness Centrality:\")\n",
        "print(top_betweenness)\n",
        "\n",
        "print(\"\\nTop 10 Closeness Centrality:\")\n",
        "print(top_closeness)"
      ],
      "metadata": {
        "colab": {
          "base_uri": "https://localhost:8080/"
        },
        "id": "rvzVD28rZjjs",
        "outputId": "047fe12d-09dd-415d-d800-97e391484a4f"
      },
      "execution_count": null,
      "outputs": [
        {
          "output_type": "stream",
          "name": "stdout",
          "text": [
            "Top 10 In-Degree Centrality:\n",
            "       Node  In-Degree Centrality\n",
            "23623    58              0.101794\n",
            "1425     97              0.045954\n",
            "172    1050              0.033727\n",
            "4500     71              0.031334\n",
            "1798   1124              0.030487\n",
            "20110   203              0.028875\n",
            "287    1166              0.028543\n",
            "4409    136              0.027247\n",
            "148    1447              0.022446\n",
            "2323   1187              0.021681\n",
            "\n",
            "Top 10 Out-Degree Centrality:\n",
            "                   Node  Out-Degree Centrality\n",
            "467             oanh le               0.010218\n",
            "7340       TRƯƠNG QUANG               0.004702\n",
            "812    trung.nguynngc46               0.004386\n",
            "33397            NMDung               0.003456\n",
            "1441                NTB               0.003323\n",
            "16         Bùi Thu Hiền               0.003273\n",
            "662            saigon84               0.003090\n",
            "22091          Ngọc Hải               0.003024\n",
            "134                Minh               0.002924\n",
            "1713              Trung               0.002874\n",
            "\n",
            "Top 10 Betweenness Centrality:\n",
            "               Node  Betweenness Centrality\n",
            "467         oanh le                0.002815\n",
            "22091      Ngọc Hải                0.002057\n",
            "1972      Lý Nghịch                0.001105\n",
            "16     Bùi Thu Hiền                0.001065\n",
            "33397        NMDung                0.001045\n",
            "1441            NTB                0.000985\n",
            "12109        NMDuny                0.000838\n",
            "1713          Trung                0.000725\n",
            "253      Quê Hà Nội                0.000582\n",
            "1968     daihung253                0.000567\n",
            "\n",
            "Top 10 Closeness Centrality:\n",
            "       Node  Closeness Centrality\n",
            "23623    58              0.132900\n",
            "1425     97              0.084137\n",
            "172    1050              0.070356\n",
            "4500     71              0.070312\n",
            "287    1166              0.069765\n",
            "1798   1124              0.068887\n",
            "20110   203              0.067792\n",
            "4409    136              0.061560\n",
            "657    1193              0.060158\n",
            "1881    414              0.060144\n"
          ]
        }
      ]
    },
    {
      "cell_type": "code",
      "source": [
        "top_in_degree = top_in_degree[top_in_degree[\"Node\"] != 'javascript:;']\n",
        "top_out_degree = top_out_degree[top_out_degree[\"Node\"] != 'javascript:;']\n",
        "top_betweenness = top_betweenness[top_betweenness[\"Node\"] != 'javascript:;']\n",
        "top_closeness = top_closeness[top_closeness[\"Node\"] != 'javascript:;']"
      ],
      "metadata": {
        "id": "5I-m_RiyiRgc"
      },
      "execution_count": null,
      "outputs": []
    },
    {
      "cell_type": "code",
      "source": [
        "# Saving to different Excel files\n",
        "import pandas as pd\n",
        "\n",
        "# Creating DataFrames\n",
        "df_in_degree = pd.DataFrame(top_in_degree)\n",
        "df_out_degree = pd.DataFrame(top_out_degree)\n",
        "df_betweenness = pd.DataFrame(top_betweenness)\n",
        "df_closeness = pd.DataFrame(top_closeness)\n",
        "\n",
        "file_paths = {\n",
        "    \"In-Degree\": \"In-Degree_Centrality.xlsx\",\n",
        "    \"Out-Degree\": \"Out-Degree_Centrality.xlsx\",\n",
        "    \"Betweenness\": \"Betweenness_Centrality.xlsx\",\n",
        "    \"Closeness\": \"Closeness_Centrality.xlsx\"\n",
        "}\n",
        "\n",
        "# Writing each DataFrame to a separate Excel file\n",
        "with pd.ExcelWriter(file_paths[\"In-Degree\"]) as writer:\n",
        "    df_in_degree.to_excel(writer, index=False)\n",
        "\n",
        "with pd.ExcelWriter(file_paths[\"Out-Degree\"]) as writer:\n",
        "    df_out_degree.to_excel(writer, index=False)\n",
        "\n",
        "with pd.ExcelWriter(file_paths[\"Betweenness\"]) as writer:\n",
        "    df_betweenness.to_excel(writer, index=False)\n",
        "\n",
        "with pd.ExcelWriter(file_paths[\"Closeness\"]) as writer:\n",
        "    df_closeness.to_excel(writer, index=False)\n",
        "\n",
        "print(\"Files have been saved successfully.\")"
      ],
      "metadata": {
        "colab": {
          "base_uri": "https://localhost:8080/"
        },
        "id": "ePxv-_m4jFJ4",
        "outputId": "7a14f571-bd20-4934-a4fb-fb92b5cd389d"
      },
      "execution_count": null,
      "outputs": [
        {
          "output_type": "stream",
          "name": "stdout",
          "text": [
            "Files have been saved successfully.\n"
          ]
        }
      ]
    },
    {
      "cell_type": "code",
      "source": [
        "import matplotlib.pyplot as plt\n",
        "\n",
        "# Hàm vẽ và lưu biểu đồ cột\n",
        "def plot_bar_chart(data, title, x_label, y_label, filename):\n",
        "    fig, ax = plt.subplots(figsize=(10, 6))\n",
        "    ax.bar(data['Node'].astype(str), data[data.columns[1]], color='skyblue')  # Vẽ cột\n",
        "    ax.set_title(title, fontsize=14, weight='bold', pad=20)  # Tiêu đề\n",
        "    ax.set_xlabel(x_label, fontsize=12)  # Nhãn trục x\n",
        "    ax.set_ylabel(y_label, fontsize=12)  # Nhãn trục y\n",
        "    ax.tick_params(axis='x', rotation=90, labelsize=8)  # Xoay nhãn x\n",
        "    plt.tight_layout()  # Bố cục gọn\n",
        "    plt.savefig(filename, dpi=300, bbox_inches='tight')  # Lưu hình\n",
        "    plt.close(fig)  # Đóng figure sau khi lưu\n",
        "\n",
        "# Vẽ và lưu biểu đồ cột cho từng bảng\n",
        "plot_bar_chart(\n",
        "    top_in_degree,\n",
        "    \"Top 10 In-Degree Centrality\",\n",
        "    \"Node\",\n",
        "    \"In-Degree Centrality\",\n",
        "    \"in_degree_bar_chart.png\"\n",
        ")\n",
        "\n",
        "plot_bar_chart(\n",
        "    top_out_degree,\n",
        "    \"Top 10 Out-Degree Centrality\",\n",
        "    \"Node\",\n",
        "    \"Out-Degree Centrality\",\n",
        "    \"out_degree_bar_chart.png\"\n",
        ")\n",
        "\n",
        "plot_bar_chart(\n",
        "    top_betweenness,\n",
        "    \"Top 10 Betweenness Centrality\",\n",
        "    \"Node\",\n",
        "    \"Betweenness Centrality\",\n",
        "    \"betweenness_bar_chart.png\"\n",
        ")\n",
        "\n",
        "plot_bar_chart(\n",
        "    top_closeness,\n",
        "    \"Top 10 Closeness Centrality\",\n",
        "    \"Node\",\n",
        "    \"Closeness Centrality\",\n",
        "    \"closeness_bar_chart.png\"\n",
        ")\n"
      ],
      "metadata": {
        "id": "1PtLM5dAgmFj"
      },
      "execution_count": null,
      "outputs": []
    },
    {
      "cell_type": "code",
      "source": [
        "import matplotlib.pyplot as plt\n",
        "import pandas as pd\n",
        "\n",
        "# Tạo figure và axes\n",
        "def plot_table(data, title, filename):\n",
        "    fig, ax = plt.subplots(figsize=(8, 4))\n",
        "    ax.axis('off')  # Tắt khung\n",
        "    table = ax.table(\n",
        "        cellText=data.values,\n",
        "        colLabels=data.columns,\n",
        "        cellLoc='center',\n",
        "        loc='center'\n",
        "    )\n",
        "    table.auto_set_font_size(False)\n",
        "    table.set_fontsize(10)\n",
        "    table.auto_set_column_width(col=list(range(len(data.columns))))\n",
        "\n",
        "    # Thêm tiêu đề với khoảng cách điều chỉnh\n",
        "    ax.set_title(title, fontsize=14, weight='bold', pad=20)\n",
        "\n",
        "    # Sử dụng tight_layout để tránh tràn\n",
        "    plt.tight_layout()\n",
        "    plt.subplots_adjust(top=0.8)  # Điều chỉnh khoảng cách từ bảng đến tiêu đề\n",
        "\n",
        "    # Lưu hình ảnh\n",
        "    plt.savefig(filename, dpi=300, bbox_inches='tight')\n",
        "    plt.close(fig)  # Đóng figure sau khi lưu để tránh tiêu tốn bộ nhớ\n",
        "\n",
        "# Vẽ và lưu từng bảng\n",
        "plot_table(top_in_degree, \"Top 20 In-Degree Centrality\", \"top_in_degree.png\")\n",
        "plot_table(top_out_degree, \"Top 20 Out-Degree Centrality\", \"top_out_degree.png\")\n",
        "plot_table(top_betweenness, \"Top 20 Betweenness Centrality\", \"top_betweenness.png\")\n",
        "plot_table(top_closeness, \"Top 20 Closeness Centrality\", \"top_closeness.png\")\n"
      ],
      "metadata": {
        "id": "td9JQ979a6Xj"
      },
      "execution_count": null,
      "outputs": []
    },
    {
      "cell_type": "markdown",
      "source": [
        "# Degree Distribution"
      ],
      "metadata": {
        "id": "UHDzGYf5N5iz"
      }
    },
    {
      "cell_type": "code",
      "source": [
        "# Import necessary libraries\n",
        "import pandas as pd\n",
        "import matplotlib.pyplot as plt\n",
        "\n",
        "# Đọc dữ liệu từ file Excel\n",
        "file_path = 'Node_Centralities_Directed.xlsx'\n",
        "df = pd.read_excel(file_path)\n",
        "\n",
        "# Khai báo các cột cần vẽ phân phối\n",
        "columns = ['In-Degree Centrality', 'Out-Degree Centrality', 'Betweenness Centrality', 'Closeness Centrality']\n",
        "\n",
        "# Vẽ và lưu phân phối của từng cột\n",
        "for col in columns:\n",
        "    # Tạo một figure mới cho mỗi đồ thị\n",
        "    plt.figure(figsize=(8, 6))\n",
        "\n",
        "    # Vẽ đồ thị phân phối (histogram) với 30 bins\n",
        "    df[col].plot(kind='hist', bins=30, alpha=0.7, color='skyblue')\n",
        "\n",
        "    # Thiết lập tiêu đề và nhãn cho đồ thị\n",
        "    plt.title(f'Distribution of {col}')\n",
        "    plt.xlabel(f'{col}')\n",
        "    plt.ylabel('Frequency')\n",
        "\n",
        "    # Hiển thị lưới trên đồ thị\n",
        "    plt.grid(True)\n",
        "\n",
        "    # Lưu đồ thị dưới dạng hình ảnh\n",
        "    plt.savefig(f'{col}_distribution.png')\n",
        "\n",
        "    # Đóng đồ thị sau khi lưu\n",
        "    plt.close()\n",
        "\n",
        "print(\"Các hình ảnh đã được lưu thành công.\")\n"
      ],
      "metadata": {
        "id": "ObH-UCzyOCJ_"
      },
      "execution_count": null,
      "outputs": []
    },
    {
      "cell_type": "code",
      "source": [
        "import networkx as nx\n",
        "import matplotlib.pyplot as plt\n",
        "\n",
        "# Đọc đồ thị có hướng từ file GraphML\n",
        "file_path = 'social_network.graphml'\n",
        "G = nx.read_graphml(file_path)\n",
        "\n",
        "# Tính toán bậc của từng node (In-Degree và Out-Degree)\n",
        "in_degrees = dict(G.in_degree())  # In-Degree\n",
        "out_degrees = dict(G.out_degree())  # Out-Degree\n",
        "\n",
        "# Lọc bỏ các node có In-Degree hoặc Out-Degree bằng 0\n",
        "in_degrees = {node: degree for node, degree in in_degrees.items() if degree > 0}\n",
        "out_degrees = {node: degree for node, degree in out_degrees.items() if degree > 0}\n",
        "\n",
        "# Vẽ phân phối In-Degree\n",
        "plt.figure(figsize=(8, 6))\n",
        "plt.hist(in_degrees.values(), bins=30, alpha=0.7, color='skyblue')\n",
        "plt.title('In-Degree Distribution (Directed Network)')\n",
        "plt.xlabel('In-Degree')\n",
        "plt.ylabel('Frequency')\n",
        "plt.grid(True)\n",
        "plt.show()\n",
        "\n",
        "# Vẽ phân phối Out-Degree\n",
        "plt.figure(figsize=(8, 6))\n",
        "plt.hist(out_degrees.values(), bins=30, alpha=0.7, color='lightcoral')\n",
        "plt.title('Out-Degree Distribution (Directed Network)')\n",
        "plt.xlabel('Out-Degree')\n",
        "plt.ylabel('Frequency')\n",
        "plt.grid(True)\n",
        "plt.show()\n",
        "\n",
        "print(\"In-Degree and Out-Degree distributions have been displayed.\")\n"
      ],
      "metadata": {
        "id": "u1JwzNxVN7XW"
      },
      "execution_count": null,
      "outputs": []
    },
    {
      "cell_type": "code",
      "source": [],
      "metadata": {
        "id": "MB6PZoQIN9oW"
      },
      "execution_count": null,
      "outputs": []
    }
  ]
}
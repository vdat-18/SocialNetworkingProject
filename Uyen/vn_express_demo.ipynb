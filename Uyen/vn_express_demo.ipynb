{
  "nbformat": 4,
  "nbformat_minor": 0,
  "metadata": {
    "colab": {
      "provenance": []
    },
    "kernelspec": {
      "name": "python3",
      "display_name": "Python 3"
    },
    "language_info": {
      "name": "python"
    }
  },
  "cells": [
    {
      "cell_type": "markdown",
      "source": [
        "#Xây dựng đồ thị"
      ],
      "metadata": {
        "id": "Dba6_ayYryDV"
      }
    },
    {
      "cell_type": "code",
      "source": [
        "import pandas as pd\n",
        "import networkx as nx\n",
        "\n",
        "# Assuming the dataset is provided in a file, let's load it into a DataFrame\n",
        "# Since the image file cannot be processed, we would need a CSV or Excel file with the same structure mentioned in the text.\n",
        "\n",
        "# Placeholder for dataset processing (mock example for dataset structure)\n",
        "data = {\n",
        "    # \"Title\": [\"Post 1\", \"Post 2\", \"Post 3\"],\n",
        "    # \"Author\": [\"Author A\", \"Author B\", \"Author C\"],\n",
        "    # \"Category\": [\"Tech\", \"Health\", \"Education\"],\n",
        "    # \"Comments Count\": [2, 3, 1],\n",
        "    # \"Detailed Title\": [\"Detail 1\", \"Detail 2\", \"Detail 3\"],\n",
        "    # \"Comments_Post\": [\n",
        "    #     [(\"Commenter A1\", \"Reply B1\"), (\"Commenter A2\", \"Reply B2\")],\n",
        "    #     [(\"Commenter B1\", \"Reply C1\"), (\"Commenter B2\", \"Reply D2\"), (\"Commenter B3\", \"Reply E3\")],\n",
        "    #     [(\"Commenter C1\", \"Reply F1\")]\n",
        "    # ],\n",
        "}\n",
        "\n",
        "df = pd.DataFrame(data)\n",
        "\n",
        "# Constructing a graph from the data\n",
        "G = nx.DiGraph()\n",
        "\n",
        "# Adding nodes (authors, commenters, repliers) and their categories\n",
        "for _, row in df.iterrows():\n",
        "    G.add_node(row[\"Author\"], category=row[\"Category\"])\n",
        "    for comment, reply in row[\"Comments_Post\"]:\n",
        "        G.add_node(comment, category=\"Commenter\")\n",
        "        G.add_node(reply, category=\"Replier\")\n",
        "        G.add_edge(row[\"Author\"], comment)  # Author to Commenter\n",
        "        G.add_edge(comment, reply)         # Commenter to Replier\n",
        "\n",
        "# Calculating measures\n",
        "density = nx.density(G)\n",
        "closeness = nx.closeness_centrality(G)\n",
        "betweenness = nx.betweenness_centrality(G)\n",
        "\n",
        "# Preparing results\n",
        "results = {\n",
        "    \"Density\": density,\n",
        "    \"Closeness Centrality\": closeness,\n",
        "    \"Betweenness Centrality\": betweenness\n",
        "}\n",
        "\n",
        "results\n"
      ],
      "metadata": {
        "id": "GXFnWuyXr2Q0"
      },
      "execution_count": null,
      "outputs": []
    },
    {
      "cell_type": "markdown",
      "source": [
        "#Phân cụm cộng đồng"
      ],
      "metadata": {
        "id": "Qs4OuKUdsXT9"
      }
    },
    {
      "cell_type": "code",
      "source": [
        "from networkx.algorithms.community import louvain_communities, girvan_newman\n",
        "\n",
        "# Applying Louvain method for community detection\n",
        "louvain_communities_result = louvain_communities(G)\n",
        "\n",
        "# Adding community information to nodes as a node attribute (Louvain)\n",
        "for i, community in enumerate(louvain_communities_result):\n",
        "    for node in community:\n",
        "        G.nodes[node]['community_louvain'] = i\n",
        "\n",
        "# Applying Girvan-Newman method for community detection\n",
        "girvan_newman_communities = next(girvan_newman(G))  # First split\n",
        "girvan_newman_mapping = {}\n",
        "for i, community in enumerate(girvan_newman_communities):\n",
        "    for node in community:\n",
        "        girvan_newman_mapping[node] = i\n",
        "\n",
        "# Adding community information to nodes as a node attribute (Girvan-Newman)\n",
        "nx.set_node_attributes(G, girvan_newman_mapping, 'community_girvan_newman')\n",
        "\n",
        "# Collecting node attributes to show communities\n",
        "node_attributes = {node: G.nodes[node] for node in G.nodes()}\n",
        "node_attributes\n"
      ],
      "metadata": {
        "id": "8Tfo_n_ysKe8"
      },
      "execution_count": null,
      "outputs": []
    },
    {
      "cell_type": "markdown",
      "source": [
        "#Phân tích cụm"
      ],
      "metadata": {
        "id": "CVd74UOvsaRW"
      }
    },
    {
      "cell_type": "code",
      "source": [
        "from collections import defaultdict\n",
        "\n",
        "# Initializing a dictionary to store community information\n",
        "community_users_louvain = defaultdict(list)\n",
        "community_users_girvan_newman = defaultdict(list)\n",
        "\n",
        "# Grouping users by community based on Louvain and Girvan-Newman results\n",
        "for node, attributes in G.nodes(data=True):\n",
        "    community_users_louvain[attributes['community_louvain']].append(\n",
        "        {\"user\": node, \"category\": attributes.get(\"category\", \"Unknown\")}\n",
        "    )\n",
        "    community_users_girvan_newman[attributes['community_girvan_newman']].append(\n",
        "        {\"user\": node, \"category\": attributes.get(\"category\", \"Unknown\")}\n",
        "    )\n",
        "\n",
        "# Summarizing categories within each community\n",
        "community_topics_louvain = {\n",
        "    community: list(set(user['category'] for user in users))\n",
        "    for community, users in community_users_louvain.items()\n",
        "}\n",
        "community_topics_girvan_newman = {\n",
        "    community: list(set(user['category'] for user in users))\n",
        "    for community, users in community_users_girvan_newman.items()\n",
        "}\n",
        "\n",
        "# Combining results\n",
        "analysis_result = {\n",
        "    \"Louvain\": {\n",
        "        \"Community Users\": community_users_louvain,\n",
        "        \"Community Topics\": community_topics_louvain,\n",
        "    },\n",
        "    \"Girvan-Newman\": {\n",
        "        \"Community Users\": community_users_girvan_newman,\n",
        "        \"Community Topics\": community_topics_girvan_newman,\n",
        "    },\n",
        "}\n",
        "\n",
        "import ace_tools as tools; tools.display_dataframe_to_user(\"Community Analysis\", pd.DataFrame(analysis_result))\n"
      ],
      "metadata": {
        "id": "W72kDoO0siBA"
      },
      "execution_count": null,
      "outputs": []
    },
    {
      "cell_type": "markdown",
      "source": [
        "#Trực quan hóa"
      ],
      "metadata": {
        "id": "lXDTxiPHsioa"
      }
    },
    {
      "cell_type": "code",
      "source": [
        "import matplotlib.pyplot as plt\n",
        "\n",
        "# Assigning colors to Louvain communities for visualization\n",
        "colors_louvain = [attributes['community_louvain'] for _, attributes in G.nodes(data=True)]\n",
        "\n",
        "# Drawing the graph with Louvain communities\n",
        "plt.figure(figsize=(12, 8))\n",
        "pos = nx.spring_layout(G, seed=42)  # Positioning the nodes\n",
        "nx.draw_networkx_nodes(G, pos, node_color=colors_louvain, cmap=plt.cm.tab20, node_size=500)\n",
        "nx.draw_networkx_edges(G, pos, alpha=0.5)\n",
        "nx.draw_networkx_labels(G, pos, font_size=10, font_color='black')\n",
        "plt.title(\"Graph Visualization - Louvain Communities\")\n",
        "plt.show()\n",
        "\n",
        "# Assigning colors to Girvan-Newman communities for visualization\n",
        "colors_girvan_newman = [attributes['community_girvan_newman'] for _, attributes in G.nodes(data=True)]\n",
        "\n",
        "# Drawing the graph with Girvan-Newman communities\n",
        "plt.figure(figsize=(12, 8))\n",
        "nx.draw_networkx_nodes(G, pos, node_color=colors_girvan_newman, cmap=plt.cm.tab20, node_size=500)\n",
        "nx.draw_networkx_edges(G, pos, alpha=0.5)\n",
        "nx.draw_networkx_labels(G, pos, font_size=10, font_color='black')\n",
        "plt.title(\"Graph Visualization - Girvan-Newman Communities\")\n",
        "plt.show()\n"
      ],
      "metadata": {
        "id": "KSbZKY7Zspi9"
      },
      "execution_count": null,
      "outputs": []
    }
  ]
}
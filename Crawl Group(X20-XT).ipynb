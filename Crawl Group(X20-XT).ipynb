{
 "cells": [
  {
   "cell_type": "code",
   "execution_count": 12,
   "metadata": {},
   "outputs": [],
   "source": [
    "import numpy as np\n",
    "from time import sleep\n",
    "from selenium.common.exceptions import NoSuchElementException, ElementNotInteractableException\n",
    "from selenium.webdriver.common.by import By\n",
    "from selenium import webdriver\n",
    "from selenium.webdriver.chrome.service import Service as ChromeService\n",
    "from webdriver_manager.chrome import ChromeDriverManager\n",
    "import json\n",
    "import pandas as pd\n",
    "# Khai báo trình duyệt Chrome\n",
    "# driver = webdriver.Chrome(service=ChromeService(ChromeDriverManager().install()))\n",
    "driver = webdriver.Chrome(service=ChromeService())\n",
    "\n",
    "# Thay thế `USERNAME` và `PASSWORD` bằng thông tin tài khoản Shopee của bạn\n",
    "USERNAME = \"nguyenvandat9a4tg2017@gmail.com\"\n",
    "PASSWORD = \"datne1812\""
   ]
  },
  {
   "cell_type": "code",
   "execution_count": 13,
   "metadata": {},
   "outputs": [],
   "source": [
    "def scroll_page(driver, total_height, num_parts=5, delay=1):\n",
    "    \"\"\"\n",
    "    Hàm cuộn trang xuống theo số phần đã chỉ định.\n",
    "    \n",
    "    :param driver: WebDriver của Selenium\n",
    "    :param total_height: Chiều cao tổng của trang\n",
    "    :param num_parts: Số phần để chia chiều cao của trang, mặc định là 4\n",
    "    :param delay: Thời gian chờ (giây) giữa các lần cuộn trang\n",
    "    \"\"\"\n",
    "    part_height = total_height // num_parts\n",
    "    \n",
    "    for i in range(num_parts):\n",
    "        print(f\"Scrolling part {i+1}\")\n",
    "        start_height = i * part_height\n",
    "        end_height = min((i + 1) * part_height, total_height)\n",
    "        \n",
    "        # Scroll đến vị trí bắt đầu của phần\n",
    "        driver.execute_script(f\"window.scrollTo(0, {start_height});\")\n",
    "        sleep(delay)  # Chờ\n",
    "        \n",
    "        # Scroll đến vị trí kết thúc của phần\n",
    "        driver.execute_script(f\"window.scrollTo(0, {end_height});\")\n",
    "        sleep(delay)  # Chờ\n",
    "\n",
    "    # Cuộn xuống cuối trang một lần nữa\n",
    "    driver.execute_script(\"window.scrollTo(0, document.body.scrollHeight);\")\n",
    "    sleep(delay)  # Chờ"
   ]
  },
  {
   "cell_type": "code",
   "execution_count": 14,
   "metadata": {},
   "outputs": [
    {
     "ename": "NoSuchWindowException",
     "evalue": "Message: no such window: target window already closed\nfrom unknown error: web view not found\n  (Session info: chrome=131.0.6778.86)\nStacktrace:\n\tGetHandleVerifier [0x00007FF755F16CB5+28821]\n\t(No symbol) [0x00007FF755E83840]\n\t(No symbol) [0x00007FF755D2578A]\n\t(No symbol) [0x00007FF755CFF4F5]\n\t(No symbol) [0x00007FF755DA6247]\n\t(No symbol) [0x00007FF755DBECE2]\n\t(No symbol) [0x00007FF755D9F0A3]\n\t(No symbol) [0x00007FF755D6A778]\n\t(No symbol) [0x00007FF755D6B8E1]\n\tGetHandleVerifier [0x00007FF75624FCAD+3408013]\n\tGetHandleVerifier [0x00007FF75626741F+3504127]\n\tGetHandleVerifier [0x00007FF75625B5FD+3455453]\n\tGetHandleVerifier [0x00007FF755FDBDBB+835995]\n\t(No symbol) [0x00007FF755E8EB5F]\n\t(No symbol) [0x00007FF755E8A814]\n\t(No symbol) [0x00007FF755E8A9AD]\n\t(No symbol) [0x00007FF755E7A199]\n\tBaseThreadInitThunk [0x00007FFCA650259D+29]\n\tRtlUserThreadStart [0x00007FFCA7CAAF38+40]\n",
     "output_type": "error",
     "traceback": [
      "\u001b[1;31m---------------------------------------------------------------------------\u001b[0m",
      "\u001b[1;31mNoSuchWindowException\u001b[0m                     Traceback (most recent call last)",
      "Cell \u001b[1;32mIn[14], line 26\u001b[0m\n\u001b[0;32m     24\u001b[0m \u001b[38;5;66;03m# Cuộn xuống dưới trang\u001b[39;00m\n\u001b[0;32m     25\u001b[0m \u001b[38;5;28;01mwhile\u001b[39;00m \u001b[38;5;28;01mTrue\u001b[39;00m:\n\u001b[1;32m---> 26\u001b[0m     \u001b[43mdriver\u001b[49m\u001b[38;5;241;43m.\u001b[39;49m\u001b[43mexecute_script\u001b[49m\u001b[43m(\u001b[49m\u001b[38;5;124;43m\"\u001b[39;49m\u001b[38;5;124;43mwindow.scrollTo(0, document.body.scrollHeight);\u001b[39;49m\u001b[38;5;124;43m\"\u001b[39;49m\u001b[43m)\u001b[49m\n\u001b[0;32m     27\u001b[0m     sleep(\u001b[38;5;241m2\u001b[39m)  \u001b[38;5;66;03m# Chờ trang tải thêm\u001b[39;00m\n\u001b[0;32m     29\u001b[0m     \u001b[38;5;66;03m# Kiểm tra xem đã cuộn đến cuối trang chưa\u001b[39;00m\n",
      "File \u001b[1;32mc:\\Users\\CUONG DAT PHAT\\AppData\\Local\\Programs\\Python\\Python312\\Lib\\site-packages\\selenium\\webdriver\\remote\\webdriver.py:414\u001b[0m, in \u001b[0;36mWebDriver.execute_script\u001b[1;34m(self, script, *args)\u001b[0m\n\u001b[0;32m    411\u001b[0m converted_args \u001b[38;5;241m=\u001b[39m \u001b[38;5;28mlist\u001b[39m(args)\n\u001b[0;32m    412\u001b[0m command \u001b[38;5;241m=\u001b[39m Command\u001b[38;5;241m.\u001b[39mW3C_EXECUTE_SCRIPT\n\u001b[1;32m--> 414\u001b[0m \u001b[38;5;28;01mreturn\u001b[39;00m \u001b[38;5;28;43mself\u001b[39;49m\u001b[38;5;241;43m.\u001b[39;49m\u001b[43mexecute\u001b[49m\u001b[43m(\u001b[49m\u001b[43mcommand\u001b[49m\u001b[43m,\u001b[49m\u001b[43m \u001b[49m\u001b[43m{\u001b[49m\u001b[38;5;124;43m\"\u001b[39;49m\u001b[38;5;124;43mscript\u001b[39;49m\u001b[38;5;124;43m\"\u001b[39;49m\u001b[43m:\u001b[49m\u001b[43m \u001b[49m\u001b[43mscript\u001b[49m\u001b[43m,\u001b[49m\u001b[43m \u001b[49m\u001b[38;5;124;43m\"\u001b[39;49m\u001b[38;5;124;43margs\u001b[39;49m\u001b[38;5;124;43m\"\u001b[39;49m\u001b[43m:\u001b[49m\u001b[43m \u001b[49m\u001b[43mconverted_args\u001b[49m\u001b[43m}\u001b[49m\u001b[43m)\u001b[49m[\u001b[38;5;124m\"\u001b[39m\u001b[38;5;124mvalue\u001b[39m\u001b[38;5;124m\"\u001b[39m]\n",
      "File \u001b[1;32mc:\\Users\\CUONG DAT PHAT\\AppData\\Local\\Programs\\Python\\Python312\\Lib\\site-packages\\selenium\\webdriver\\remote\\webdriver.py:354\u001b[0m, in \u001b[0;36mWebDriver.execute\u001b[1;34m(self, driver_command, params)\u001b[0m\n\u001b[0;32m    352\u001b[0m response \u001b[38;5;241m=\u001b[39m \u001b[38;5;28mself\u001b[39m\u001b[38;5;241m.\u001b[39mcommand_executor\u001b[38;5;241m.\u001b[39mexecute(driver_command, params)\n\u001b[0;32m    353\u001b[0m \u001b[38;5;28;01mif\u001b[39;00m response:\n\u001b[1;32m--> 354\u001b[0m     \u001b[38;5;28;43mself\u001b[39;49m\u001b[38;5;241;43m.\u001b[39;49m\u001b[43merror_handler\u001b[49m\u001b[38;5;241;43m.\u001b[39;49m\u001b[43mcheck_response\u001b[49m\u001b[43m(\u001b[49m\u001b[43mresponse\u001b[49m\u001b[43m)\u001b[49m\n\u001b[0;32m    355\u001b[0m     response[\u001b[38;5;124m\"\u001b[39m\u001b[38;5;124mvalue\u001b[39m\u001b[38;5;124m\"\u001b[39m] \u001b[38;5;241m=\u001b[39m \u001b[38;5;28mself\u001b[39m\u001b[38;5;241m.\u001b[39m_unwrap_value(response\u001b[38;5;241m.\u001b[39mget(\u001b[38;5;124m\"\u001b[39m\u001b[38;5;124mvalue\u001b[39m\u001b[38;5;124m\"\u001b[39m, \u001b[38;5;28;01mNone\u001b[39;00m))\n\u001b[0;32m    356\u001b[0m     \u001b[38;5;28;01mreturn\u001b[39;00m response\n",
      "File \u001b[1;32mc:\\Users\\CUONG DAT PHAT\\AppData\\Local\\Programs\\Python\\Python312\\Lib\\site-packages\\selenium\\webdriver\\remote\\errorhandler.py:229\u001b[0m, in \u001b[0;36mErrorHandler.check_response\u001b[1;34m(self, response)\u001b[0m\n\u001b[0;32m    227\u001b[0m         alert_text \u001b[38;5;241m=\u001b[39m value[\u001b[38;5;124m\"\u001b[39m\u001b[38;5;124malert\u001b[39m\u001b[38;5;124m\"\u001b[39m]\u001b[38;5;241m.\u001b[39mget(\u001b[38;5;124m\"\u001b[39m\u001b[38;5;124mtext\u001b[39m\u001b[38;5;124m\"\u001b[39m)\n\u001b[0;32m    228\u001b[0m     \u001b[38;5;28;01mraise\u001b[39;00m exception_class(message, screen, stacktrace, alert_text)  \u001b[38;5;66;03m# type: ignore[call-arg]  # mypy is not smart enough here\u001b[39;00m\n\u001b[1;32m--> 229\u001b[0m \u001b[38;5;28;01mraise\u001b[39;00m exception_class(message, screen, stacktrace)\n",
      "\u001b[1;31mNoSuchWindowException\u001b[0m: Message: no such window: target window already closed\nfrom unknown error: web view not found\n  (Session info: chrome=131.0.6778.86)\nStacktrace:\n\tGetHandleVerifier [0x00007FF755F16CB5+28821]\n\t(No symbol) [0x00007FF755E83840]\n\t(No symbol) [0x00007FF755D2578A]\n\t(No symbol) [0x00007FF755CFF4F5]\n\t(No symbol) [0x00007FF755DA6247]\n\t(No symbol) [0x00007FF755DBECE2]\n\t(No symbol) [0x00007FF755D9F0A3]\n\t(No symbol) [0x00007FF755D6A778]\n\t(No symbol) [0x00007FF755D6B8E1]\n\tGetHandleVerifier [0x00007FF75624FCAD+3408013]\n\tGetHandleVerifier [0x00007FF75626741F+3504127]\n\tGetHandleVerifier [0x00007FF75625B5FD+3455453]\n\tGetHandleVerifier [0x00007FF755FDBDBB+835995]\n\t(No symbol) [0x00007FF755E8EB5F]\n\t(No symbol) [0x00007FF755E8A814]\n\t(No symbol) [0x00007FF755E8A9AD]\n\t(No symbol) [0x00007FF755E7A199]\n\tBaseThreadInitThunk [0x00007FFCA650259D+29]\n\tRtlUserThreadStart [0x00007FFCA7CAAF38+40]\n"
     ]
    }
   ],
   "source": [
    "# Truy cập trang web Shopee\n",
    "driver.get(\"https://www.facebook.com/groups/416709328396092/members\")\n",
    "sleep(5)\n",
    "driver.maximize_window()\n",
    "\n",
    "# Nhập tên đăng nhập\n",
    "username_input = driver.find_element(By.XPATH, '//*[@id=\"email\"]')\n",
    "username_input.send_keys(USERNAME)\n",
    "sleep(1)\n",
    "\n",
    "# Nhập mật khẩu\n",
    "password_input = driver.find_element(By.XPATH, '//*[@id=\"pass\"]')\n",
    "password_input.send_keys(PASSWORD)\n",
    "sleep(1)\n",
    "\n",
    "# Nhấp vào nút đăng nhập\n",
    "login_button = driver.find_element(By.XPATH, '//*[@id=\"loginbutton\"]')\n",
    "login_button.click()\n",
    "sleep(20)# Chờ đăng nhập thành công\n",
    "\n",
    "# Lấy kích thước của trang\n",
    "last_height = driver.execute_script(\"return document.body.scrollHeight\")\n",
    "\n",
    "# Cuộn xuống dưới trang\n",
    "while True:\n",
    "    driver.execute_script(\"window.scrollTo(0, document.body.scrollHeight);\")\n",
    "    sleep(2)  # Chờ trang tải thêm\n",
    "\n",
    "    # Kiểm tra xem đã cuộn đến cuối trang chưa\n",
    "    new_height = driver.execute_script(\"return document.body.scrollHeight\")\n",
    "    if new_height == last_height:\n",
    "        break\n",
    "    last_height = new_height"
   ]
  }
 ],
 "metadata": {
  "kernelspec": {
   "display_name": "Python 3",
   "language": "python",
   "name": "python3"
  },
  "language_info": {
   "codemirror_mode": {
    "name": "ipython",
    "version": 3
   },
   "file_extension": ".py",
   "mimetype": "text/x-python",
   "name": "python",
   "nbconvert_exporter": "python",
   "pygments_lexer": "ipython3",
   "version": "3.12.3"
  }
 },
 "nbformat": 4,
 "nbformat_minor": 2
}
